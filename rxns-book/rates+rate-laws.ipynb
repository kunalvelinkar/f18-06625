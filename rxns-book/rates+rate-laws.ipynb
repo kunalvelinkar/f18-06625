{
 "cells": [
  {
   "cell_type": "markdown",
   "metadata": {},
   "source": [
    "\n",
    "# Reaction rates and rate laws\n",
    "\n"
   ]
  },
  {
   "cell_type": "markdown",
   "metadata": {},
   "source": [
    "\n",
    "## The rate of a reaction\n",
    "\n"
   ]
  },
  {
   "cell_type": "markdown",
   "metadata": {},
   "source": [
    "-   We are now in a position to define the rate of a reaction as:\n",
    "\n",
    "\\begin{equation}\n",
    "R^* = \\frac{dX}{dt}\n",
    "\\end{equation}\n",
    "\n",
    "-   which is the rate of the change of the extensive reaction extent. Note that this is:\n",
    "\n",
    "-   Independent of any particular species\n",
    "-   Dependent on how the reaction is written\n",
    "\n",
    "-   The second point is a result of how we defined $X$.\n",
    "\n",
    "-   For the reaction $2 \\;{H_2} + \\;{O_2} \\rightarrow 2 \\;{H_{2}O}$ we defined:\n",
    "\n",
    "\\begin{equation}\n",
    "\\frac{N_{A_1} - N_{A_1,0}}{-2} = \\frac{N_{A_2} - N_{A_2,0}}{-1} = \\frac{N_{A_3} - N_{A_3,0}}{2} = X\n",
    "\\end{equation}\n",
    "\n",
    "-   For the reaction $\\;{H_2} + 1/2 \\;{O_2} \\rightarrow \\;{H_{2}O}$ we can define:\n",
    "\n",
    "\\begin{equation}\n",
    "\\frac{N_{A_1} - N_{A_1,0}}{-1} = \\frac{N_{A_2} - N_{A_2,0}}{-0.5} = \\frac{N_{A_3} - N_{A_3,0}}{1} = X'\n",
    "\\end{equation}\n",
    "\n",
    "-   You can see that $X$ depends on the stoichiometric coefficients, so we have to know the reaction and how it was written when we discuss reaction rates.\n",
    "\n",
    "-   $X$ is an extensive variable with units of moles\n",
    "\n",
    "Exercise: Suppose we start with 2 moles of oxygen at t=0 in a reactor. Later,  there is 1.4 moles of oxygen remaining. Calculate the extent of reaction for these two reactions. Use the extent to determine how much hydrogen is remaining.\n",
    "\n",
    "1.  $2\\;{H_2} + \\;{O_2} \\rightarrow 2 \\;{H_{2}O}$\n",
    "\n",
    "2.  $\\;{H_2} + 1/2 \\;{O_2} \\rightarrow \\;{H_{2}O}$\n",
    "\n"
   ]
  },
  {
   "cell_type": "markdown",
   "metadata": {},
   "source": [
    "\n",
    "## The rate of disappearance of a reactant\n",
    "\n"
   ]
  },
  {
   "cell_type": "markdown",
   "metadata": {},
   "source": [
    "-   Now, recalling that $X = \\frac{N_{A_j} - N_{A_j,0}}{\\alpha_j}$, we arrive at:\n",
    "\n",
    "\\begin{equation}\n",
    "\\frac{dX}{dt} = \\frac{1}{\\alpha_j} \\frac{dN_{A_J}}{dt}\n",
    "\\end{equation}\n",
    "\n",
    "or rearranging, and using $R^*$:\n",
    "\n",
    "\\begin{equation}\n",
    "\\frac{dN_{A_J}}{dt} = \\alpha_j R^*\n",
    "\\end{equation}\n",
    "\n",
    "-   Thus, the change in composition of species J *due to the reaction* is just the stoichiometric coefficient for that species times the reaction rate. If the volume is constant:\n",
    "\n",
    "\\begin{equation}\n",
    "r = R^* / V = \\frac{d\\xi}{dt}\n",
    "\\end{equation}\n",
    "\n",
    "This defines the intensive reaction rate, with units of mol / vol / time.\n",
    "\n",
    "That also leads to (only for constant volume!)\n",
    "\n",
    "\\begin{equation}\n",
    "\\frac{dC_{A_J}}{dt} = \\alpha_j r\n",
    "\\end{equation}\n",
    "\n",
    "-   We define the species rate of production as:\n",
    "\n",
    "\\begin{equation}\n",
    "r_j = \\alpha_j r\n",
    "\\end{equation}\n",
    "\n",
    "-   This is **NOT** the rate law!\n",
    "    -   It is a relationship between the rate of appearance of a species and the reaction rate\n",
    "    \n",
    "    -   One of our goals is to find the function that describes the rate of the reaction and its dependence on concentration and temperature\n",
    "    \n",
    "    -   This will come later in the course.\n",
    "\n"
   ]
  },
  {
   "cell_type": "markdown",
   "metadata": {},
   "source": [
    "\n",
    "## Rates of disappearance and appearance of other species\n",
    "\n"
   ]
  },
  {
   "cell_type": "markdown",
   "metadata": {},
   "source": [
    "-   The stoichiometric coefficients define the rates of appearance and disappearance of other species.\n",
    "\n",
    "\\begin{equation}\n",
    "r = \\frac {r_{A_1}}{\\alpha_1} = \\frac{r_{A_2}}{\\alpha_2}  = \\frac{r_{A_3}}{\\alpha_3} \\cdots\n",
    "\\end{equation}\n",
    "\n",
    "-   Remember that stoichiometric coefficients of reactants are negative, and products are positive\n",
    "\n",
    "-   We call $r$ the rate of the reaction with units (typically) mol / vol / time\n",
    "\n",
    "-   The rate of disappearance of species $A_1$ is $r_{A_1} = \\alpha_1 r$\n",
    "\n",
    "-   The rate generally depends on the concentration of reactants (and sometimes products), as well as the temperature of the reactor.\n",
    "\n"
   ]
  },
  {
   "cell_type": "markdown",
   "metadata": {},
   "source": [
    "\n",
    "### Practice\n",
    "\n"
   ]
  },
  {
   "cell_type": "markdown",
   "metadata": {},
   "source": [
    "The ethylene epoxidation reaction has the following stoichiometry:\n",
    "\n",
    "\\begin{equation}\n",
    "C_2H_4 + 1/2 \\; O_2  \\rightarrow C_2H_4O\n",
    "\\end{equation}\n",
    "\n",
    "If we have a reactor with one mole of ethylene and one mole of oxygen, which reactant is stoichiometrically limiting?\n",
    "  \n",
    "[ethylene]((message-box \"Correct\"))     [oxygen]((message-box \"Incorrect. How many moles of ethylene are needed to consume one mole of oxygen?\"))\n",
    "\n",
    "If oxygen is consumed at 1 mol/min, what is the rate of ethylene consumption?\n",
    "\n",
    "[1/2 mol/min]((message-box \"Incorrect\"))  [1 mol/min]((message-box \"Not correct\"))  [2 mol/min]((message-box \"Correct\"))\n",
    "\n",
    "What is the maximum amount of ethylene oxide that can be produced?\n",
    "\n",
    "[1/2 mol]((message-box \"Not correct\"))  [1 mol]((message-box \"Correct.\"))  [2 mol]((message-box \"Not correct\"))\n",
    "\n"
   ]
  },
  {
   "cell_type": "markdown",
   "metadata": {},
   "source": [
    "\n",
    "## Rate laws\n",
    "\n"
   ]
  },
  {
   "cell_type": "markdown",
   "metadata": {},
   "source": [
    "-   The rate law is an algebraic equation that relates the rate of reaction to the concentrations of reactants, products and temperature.\n",
    "\n",
    "-   Law of mass action for elementary steps:\n",
    "    -   Reaction rate is proportional to the concentration of each reactant raised to its stoichiometric coefficient\n",
    "    -   That is the definition of an elementary reaction\n",
    "    -   For example: $A + B \\rightarrow C$\n",
    "        -   $r = k C_A C_B$\n",
    "    \n",
    "    -   $2A \\rightarrow B$\n",
    "        -   $r = k C_A^2$\n",
    "\n",
    "-   Many other more complex rate laws exist for non-elementary reactions\n",
    "    -   $r = \\frac {k_1 C_A}{1 + k_2 C_A}$ e.g. for surface reactions or enzyme reactions\n",
    "    \n",
    "    -   $r = k C_A^{3/2}$ for complex mechanisms\n",
    "\n",
    "-   Rate laws are ultimately determined from experiments\n",
    "\n",
    "-   We use these rate laws in conjunction with stoichiometry and mole balances to design reactors.\n",
    "\n"
   ]
  },
  {
   "cell_type": "code",
   "execution_count": null,
   "metadata": {},
   "outputs": [],
   "source": []
  },
  {
   "cell_type": "markdown",
   "metadata": {},
   "source": [
    "\n",
    "# Introduction to ODEs in python\n",
    "\n"
   ]
  },
  {
   "cell_type": "markdown",
   "metadata": {},
   "source": [
    "We solve ordinary differential equations in the form  of $f'(X) = f(X, f, f')$. We will use numerical integration to solve these kinds of equations. These basically work by integrating the equations from some known initial condition on some range of the independent variable.  [odeint](odeint)\n",
    "\n",
    "[scipy.integrate.odeint](https://docs.scipy.org/doc/scipy/reference/generated/scipy.integrate.odeint.html)\n",
    "\n",
    "Let us consider $\\frac{dy}{dx} = y(x)$ with $y(0) = 1$. Let us evaluate the solution from x=0 to x=2. The solution to this ODE is simply $y(x) = e^x$, and we plot that for comparison.\n",
    "\n",
    "We have to define a function in Python to define f(X, f, f').\n",
    "\n"
   ]
  },
  {
   "cell_type": "code",
   "execution_count": 2,
   "metadata": {},
   "outputs": [
    {
     "name": "stdout",
     "output_type": "stream",
     "text": [
      "[2.01375273]\n"
     ]
    },
    {
     "data": {
      "image/png": "[encoded data removed]",
      "text/plain": [
       "<Figure size 432x288 with 1 Axes>"
      ]
     },
     "metadata": {},
     "output_type": "display_data"
    }
   ],
   "source": [
    "import numpy as np\n",
    "from scipy.integrate import odeint\n",
    "import matplotlib.pyplot as plt\n",
    "\n",
    "\n",
    "def dydx(y,x):\n",
    "    return y\n",
    "\n",
    "xspan = np.linspace(0, 0.7)\n",
    "y0 = 1\n",
    "\n",
    "sol = odeint(dydx, y0, xspan)\n",
    "print(sol[-1])\n",
    "plt.plot(xspan, sol)\n",
    "plt.plot(xspan, np.exp(xspan), 'r--')\n",
    "plt.xlabel('x')\n",
    "plt.ylabel('y')\n",
    "plt.legend(['numerical solution', 'analytical solution'], loc='best')\n",
    "plt.show()"
   ]
  },
  {
   "cell_type": "code",
   "execution_count": null,
   "metadata": {},
   "outputs": [],
   "source": []
  },
  {
   "cell_type": "markdown",
   "metadata": {},
   "source": [
    "Note the use of a dashed line on the second plot so that it is apparent the red dashed line lies on top of the blue line, and the use of the legend to show which line is which.\n",
    "\n",
    "Suppose we want to find the value of x that makes the solution equal to 6? You can estimate that by reading off of the graph above, but we can do better by using an event to stop the integration. We use a different integration function for this. We have to define a new event function that is equal to zero at the value of y we want.\n",
    "\n",
    "[pycse.odelay](https://www.google.com/#safe=off&q=pycse.odelay)            [pycse.odelay](pycse.odelay)\n",
    "\n"
   ]
  },
  {
   "cell_type": "markdown",
   "metadata": {},
   "source": [
    "This tells us an event occurred at x ≈ 1.79, and at that x, y=6. We can check that analytically in this case:\n",
    "\n"
   ]
  },
  {
   "cell_type": "code",
   "execution_count": 3,
   "metadata": {},
   "outputs": [
    {
     "name": "stdout",
     "output_type": "stream",
     "text": [
      "[ 0.          0.20408163  0.40816327  0.6122449   0.81632653  1.02040816\n",
      "  1.2244898   1.42857143  1.63265306  1.79175944]\n",
      "[ 1.          1.22639825  1.50405267  1.84456758  2.26217447  2.77432685\n",
      "  3.40242964  4.17273383  5.11743355  6.        ]\n"
     ]
    }
   ],
   "source": [
    "import numpy as np\n",
    "from pycse import odelay\n",
    "import matplotlib.pyplot as plt\n",
    "\n",
    "\n",
    "def dydx(y, x):\n",
    "    '$\\frac{dy}{dx} = y$'\n",
    "    return y\n",
    "\n",
    "\n",
    "def event(y, x):\n",
    "    'event for y=6'\n",
    "    value = y-6  # zero at the y-value we want\n",
    "    isterminal = True\n",
    "    direction = 0       # all zeros\n",
    "    return value, isterminal, direction\n",
    "\n",
    "\n",
    "xspan = np.linspace(0, 10)\n",
    "y0 = 1\n",
    "\n",
    "x, y, te, ye, ie = odelay(dydx, y0, xspan, [event])\n",
    "#print('At x = {0:1.2f} y = {1}'.format(te[0], ye[0]))\n",
    "print(x)\n",
    "print(y)"
   ]
  },
  {
   "cell_type": "code",
   "execution_count": null,
   "metadata": {},
   "outputs": [],
   "source": []
  },
  {
   "cell_type": "code",
   "execution_count": 4,
   "metadata": {},
   "outputs": [
    {
     "name": "stdout",
     "output_type": "stream",
     "text": [
      "1.79175946923\n"
     ]
    }
   ],
   "source": [
    "import numpy as np\n",
    "print(np.log(6))"
   ]
  },
  {
   "cell_type": "markdown",
   "metadata": {},
   "source": [
    "Remember, [numpy.log](https://docs.scipy.org/doc/numpy/reference/generated/numpy.log.html) is the natural log!\n",
    "\n",
    "Next time we will review the mole balances. I strongly recommend you review [mole-balance.md>](mole-balance.md>)before coming to class. We will cover a lot of material.\n",
    "\n"
   ]
  }
 ],
 "metadata": {
  "kernelspec": {
   "display_name": "Python 3",
   "language": "python",
   "name": "python3"
  },
  "language_info": {
   "codemirror_mode": {
    "name": "ipython",
    "version": 3
   },
   "file_extension": ".py",
   "mimetype": "text/x-python",
   "name": "python",
   "nbconvert_exporter": "python",
   "pygments_lexer": "ipython3",
   "version": "3.6.3"
  },
  "toc": {
   "base_numbering": 1,
   "nav_menu": {
    "height": "155px",
    "width": "252px"
   },
   "number_sections": true,
   "sideBar": true,
   "skip_h1_title": false,
   "title_cell": "Table of Contents",
   "title_sidebar": "Contents",
   "toc_cell": false,
   "toc_position": {},
   "toc_section_display": "block",
   "toc_window_display": false
  }
 },
 "nbformat": 4,
 "nbformat_minor": 2
}
