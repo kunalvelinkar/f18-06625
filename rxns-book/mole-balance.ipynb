{
 "cells": [
  {
   "cell_type": "code",
   "execution_count": 54,
   "metadata": {},
   "outputs": [
    {
     "name": "stdout",
     "output_type": "stream",
     "text": [
      "Collecting pycse==1.6.3\n",
      "  Downloading pycse-1.6.3.tar.gz\n",
      "Collecting quantities==0.10.1 (from pycse==1.6.3)\n",
      "  Downloading quantities-0.10.1.tar.gz (61kB)\n",
      "Building wheels for collected packages: pycse, quantities\n",
      "  Running setup.py bdist_wheel for pycse: started\n",
      "  Running setup.py bdist_wheel for pycse: finished with status 'done'\n",
      "  Stored in directory: /home/jovyan/.cache/pip/wheels/5e/40/ff/05bee74dc41de68902582fe68c6c4b100fca353edeafec15f9\n",
      "  Running setup.py bdist_wheel for quantities: started\n",
      "  Running setup.py bdist_wheel for quantities: finished with status 'done'\n",
      "  Stored in directory: /home/jovyan/.cache/pip/wheels/fc/e9/14/3d025a5882093ba31c3b9373fd1451c4a32f32a291b2e22899\n",
      "Successfully built pycse quantities\n",
      "Installing collected packages: quantities, pycse\n",
      "  Found existing installation: quantities 0.11.1+36.gacba339\n",
      "    Uninstalling quantities-0.11.1+36.gacba339:\n",
      "      Successfully uninstalled quantities-0.11.1+36.gacba339\n",
      "  Found existing installation: pycse 2.0\n",
      "    Uninstalling pycse-2.0:\n",
      "      Successfully uninstalled pycse-2.0\n",
      "Successfully installed pycse-1.6.3 quantities-0.10.1\n"
     ]
    },
    {
     "data": {
      "text/plain": [
       "0"
      ]
     },
     "execution_count": 54,
     "metadata": {},
     "output_type": "execute_result"
    }
   ],
   "source": [
    "import pip\n",
    "pip.main(['install', '-U', 'pycse==1.6.3'])"
   ]
  },
  {
   "cell_type": "markdown",
   "metadata": {},
   "source": [
    "\n",
    "# Simple mole balances\n",
    "\n"
   ]
  },
  {
   "cell_type": "markdown",
   "metadata": {},
   "source": [
    "\n",
    "## Review of the mole balance\n",
    "\n"
   ]
  },
  {
   "cell_type": "markdown",
   "metadata": {},
   "source": [
    "-   **Mole** balances are performed for a *species* in a control volume\n",
    "\n",
    "![img](./images/mole-balance.png)\n",
    "\n",
    "\\begin{align}\n",
    "Accumulation &=& In - Out + Generation \\\\\n",
    "\\frac{dN_J}{dt} &=& F_{J0} - F_J + V r_J\n",
    "\\end{align}\n",
    "\n",
    "-   Here we use the convention that $N_j$ refers to the total number of moles of species $J$ in the volume, $F_J$ is a molar flow of $J$, and $r_J$ is the intensive rate of production of $J$, and it has a negative magnitude if species $J$ is in fact being consumed.\n",
    "\n",
    "Now, we consider specific examples. We will go in order of mathematical difficulty:\n",
    "\n",
    "-   steady state, (non)linear algebraic\n",
    "-   ordinary differential equations\n",
    "\n"
   ]
  },
  {
   "cell_type": "markdown",
   "metadata": {},
   "source": [
    "\n",
    "## A continuously stirred tank reactor\n",
    "\n"
   ]
  },
  {
   "cell_type": "markdown",
   "metadata": {},
   "source": [
    "Here is the typical schematic diagram of a continuously stirred tank reactor (CSTR).\n",
    "\n",
    "![img](./images/constant-volume-cstr.png)\n",
    "\n",
    "-   We assume the tank is well-mixed because it is well-stirred\n",
    "-   The concentration at the exit is the same as everywhere in the tank\n",
    "-   The mole balance at steady state ($\\frac {dN_A}{dt} = 0) $ is:\n",
    "\n",
    "$0 = F_{A0} - F_A + V r_A $\n",
    "\n"
   ]
  },
  {
   "cell_type": "markdown",
   "metadata": {},
   "source": [
    "\n",
    "## A continuously stirred tank reactor problem\n",
    "\n"
   ]
  },
  {
   "cell_type": "markdown",
   "metadata": {},
   "source": [
    "-   We have a 10L stirred tank reactor\n",
    "-   $A$ flows in at a molar flow rate of 1 mol/hr and volumetric flowrate of 2.5 L/hr\n",
    "-   $-r_A = k C_A$, $k = 0.23$ 1/hr\n",
    "-   What is the steady-state exit concentration of $A$?\n",
    "\n",
    "-   The equations\n",
    "\n",
    "\\begin{align}\n",
    "\\frac{dN_A}{dt} = 0 &=& F_{A0} - F_A + V r_A \\\\\n",
    "                  0 &=& F_{A0} - F_A  - V k C_{A, exit} \\\\\n",
    "                  0 &=& F_{A0} - v_0 C_{A, exit} - V  k C_{A, exit}\n",
    "\\end{align}\n",
    "\n",
    "\\begin{align}\n",
    "C_{A, exit} = \\frac{F_{A0}}{v_0 + V k}\n",
    "\\end{align}\n",
    "\n",
    "-   Only for constant volume\n",
    "-   Assumes well-mixed, i.e. uniform concentration\n",
    "\n"
   ]
  },
  {
   "cell_type": "markdown",
   "metadata": {},
   "source": [
    "\n",
    "## Solving the problem with algebra (CSTR)\n",
    "\n"
   ]
  },
  {
   "cell_type": "markdown",
   "metadata": {},
   "source": [
    "-   Simple algebra\n",
    "\n"
   ]
  },
  {
   "cell_type": "code",
   "execution_count": 3,
   "metadata": {},
   "outputs": [
    {
     "name": "stdout",
     "output_type": "stream",
     "text": [
      "Ca_exit = 0.208 mol / L\n"
     ]
    }
   ],
   "source": [
    "k = 0.23  # 1/hr\n",
    "Fa0 = 1.0 # mol /hr\n",
    "v0 = 2.5  # L /hr\n",
    "V = 10 #L\n",
    "Ca_exit = Fa0 / (v0 + V * k)\n",
    "print('Ca_exit = {0:1.3f} mol / L'.format(Ca_exit))"
   ]
  },
  {
   "cell_type": "markdown",
   "metadata": {},
   "source": [
    "-   This was an easy problem, but the algebraic manipulations are all possible places where errors can be made.\n",
    "-   Let us consider a numerical approach\n",
    "\n"
   ]
  },
  {
   "cell_type": "markdown",
   "metadata": {},
   "source": [
    "\n",
    "## Solving the problem numerically using a solver (CSTR)\n",
    "\n"
   ]
  },
  {
   "cell_type": "markdown",
   "metadata": {},
   "source": [
    "-   We have to create a function that is equal to zero at the solution.\n",
    "    -   We have that directly from the mole balance:\n",
    "        \n",
    "        $0 = F_{A0} - F_A + V r_A$\n",
    "    \n",
    "    -   We just have to make sure to use the correct variables, with correct units.\n",
    "\n",
    "-   We use a nonlinear solver, so we also have to provide an initial guess. You may want to review [scipy.optimize.fsolve](https://docs.scipy.org/doc/scipy/reference/generated/scipy.optimize.fsolve.html)\n",
    "\n"
   ]
  },
  {
   "cell_type": "code",
   "execution_count": 5,
   "metadata": {},
   "outputs": [
    {
     "name": "stdout",
     "output_type": "stream",
     "text": [
      "Ca_exit = 0.2083 mol/L\n"
     ]
    }
   ],
   "source": [
    "from scipy.optimize import fsolve\n",
    "\n",
    "k = 0.23   # 1/hr\n",
    "Fa0 = 1.0  # mol /hr\n",
    "v0 = 2.5   # L /hr\n",
    "V = 10     # L\n",
    "\n",
    "def func(Ca):\n",
    "    ra = -k * Ca\n",
    "    Fa = v0 * Ca\n",
    "    return Fa0 - Fa + V * ra\n",
    "\n",
    "guess = 0.5 # mol / L\n",
    "ans, = fsolve(func, guess) #note the comma after ans. That \"unpacks\" the array\n",
    "\n",
    "print('Ca_exit = {0:1.4} mol/L'.format(ans))"
   ]
  },
  {
   "cell_type": "markdown",
   "metadata": {},
   "source": [
    "-   This had less manipulation, and fewer opportunities for mistakes\n",
    "-   On the other hand, we ended up using a solver that required an initial guess to solve a linear problem.\n",
    "-   This was a simple problem, but other problems will not be linear, and will be much more difficult.\n",
    "-   Remember what the units are? Were they consistent?\n",
    "\n"
   ]
  },
  {
   "cell_type": "markdown",
   "metadata": {},
   "source": [
    "\n",
    "## Solving the problem with uncertainty (CSTR)\n",
    "\n"
   ]
  },
  {
   "cell_type": "markdown",
   "metadata": {},
   "source": [
    "[uncertainty](uncertainty)\n",
    "\n",
    "-   Uncertainty analysis is not built in to python\n",
    "-   We have to install the `uncertainties` package and import it\n",
    "\n",
    "Let us assume there is some uncertainty in the rate constant, say it is $k = 0.23 \\pm 0.1$ 1/hr.\n",
    "\n",
    "-   Is that a lot of uncertainty?\n",
    "\n",
    "We can use the `uncertainties` package to propagate that error automatically.\n",
    "\n",
    "[uncertainties.ufloat](https://www.google.com/#safe=off&q=uncertainties.ufloat)\n",
    "\n"
   ]
  },
  {
   "cell_type": "code",
   "execution_count": 7,
   "metadata": {},
   "outputs": [
    {
     "name": "stdout",
     "output_type": "stream",
     "text": [
      "Ca,exit = 0.21+/-0.06\n"
     ]
    }
   ],
   "source": [
    "import uncertainties as u\n",
    "\n",
    "k = u.ufloat(0.23, 0.1)   # rate constant 1/hr\n",
    "Fa0 = 1.0                 # inlet molar flow mol/hr\n",
    "v0 = u.ufloat(2.5,1)                  # volumetric flow L/hr\n",
    "V = 10                    # reactor volume L\n",
    "Cae = Fa0 / (v0 + V * k)\n",
    "print('Ca,exit = {0}'.format(Cae))"
   ]
  },
  {
   "cell_type": "markdown",
   "metadata": {},
   "source": [
    "-   `uncertainties` is also great for simple problems\n",
    "-   We have to do some work to make it work in other situations\n",
    "\n"
   ]
  },
  {
   "cell_type": "markdown",
   "metadata": {},
   "source": [
    "\n",
    "# Mole balance on a batch reactor\n",
    "\n"
   ]
  },
  {
   "cell_type": "markdown",
   "metadata": {},
   "source": [
    "The next more complex (mathematically) mole balance is the batch reactor. The batch reactor does not operate at steady state, and therefore we have an ordinary differential equation that describes the number of moles in the reactor as a function of time.\n",
    "\n",
    "![img](./images/constant-volume-batch.png)\n",
    "\n",
    "-   Constant volume\n",
    "-   No flow in or out\n",
    "\n",
    "$ \\frac{dN_A}{dt} = V r_A $\n",
    "\n"
   ]
  },
  {
   "cell_type": "markdown",
   "metadata": {},
   "source": [
    "\n",
    "## Simple application of a mole balance to a constant volume batch reactor\n",
    "\n"
   ]
  },
  {
   "cell_type": "markdown",
   "metadata": {},
   "source": [
    "-   At $t=0$ we have an initial concentration of 2 mol/L\n",
    "-   $-r_A = k C_A$ with $k = 0.23$ 1/hr\n",
    "-   How much A is left after 1 hour?\n",
    "\n",
    "-   Equations\n",
    "\n",
    "\\begin{align}\n",
    "N_A &=& C_A V \\\\\n",
    "\\frac{dN_A}{dt} &=& V \\frac{dC_A}{dt} \\\\\n",
    "\\frac{dC_A}{dt} &=& r_A = -k C_A \\\\\n",
    "C_A(t=0) &=& C_{A0}\n",
    "\\end{align}\n",
    "\n",
    "-   Only for constant volume\n",
    "-   Assumes well-mixed, i.e. uniform concentration\n",
    "-   Initial condition, ordinary differential equation\n",
    "\n"
   ]
  },
  {
   "cell_type": "markdown",
   "metadata": {},
   "source": [
    "\n",
    "## Solving the problem (constant volume batch reactor)\n",
    "\n"
   ]
  },
  {
   "cell_type": "markdown",
   "metadata": {},
   "source": [
    "We have an ordinary differential equation with an initial condition. We need to integrate it from t=0 to t=1 hour, and then get the solution at t=1 hour.\n",
    "\n",
    "[scipy.integrate.odeint](https://docs.scipy.org/doc/scipy/reference/generated/scipy.integrate.odeint.html)\n",
    "\n"
   ]
  },
  {
   "cell_type": "code",
   "execution_count": 26,
   "metadata": {},
   "outputs": [
    {
     "name": "stdout",
     "output_type": "stream",
     "text": [
      "<class 'numpy.ndarray'> (50, 1)\n",
      "C_A at t = 1 hour = 1.589067228361415 mol/L\n"
     ]
    }
   ],
   "source": [
    "import numpy as np\n",
    "from scipy.integrate import odeint\n",
    "\n",
    "k = 0.23   # 1/hr\n",
    "Ca0 = 2.0  # mol / L\n",
    "\n",
    "def ode(Ca, t):\n",
    "    dCadt = -k * Ca #ra\n",
    "    return dCadt\n",
    "\n",
    "tspan = np.linspace(0, 1)  # hours\n",
    "sol = odeint(ode, Ca0,  tspan)\n",
    "\n",
    "# sol is a 2d array. It has as many rows as tspan, and as many columns as Ca0\n",
    "print(type(sol), sol.shape)\n",
    "\n",
    "# We want the last value of sol, which is in the last row, column 0\n",
    "print('C_A at t = 1 hour = {0} mol/L'.format(sol[-1, 0]))"
   ]
  },
  {
   "cell_type": "code",
   "execution_count": 28,
   "metadata": {},
   "outputs": [
    {
     "data": {
      "text/plain": [
       "1.5890672283614149"
      ]
     },
     "execution_count": 28,
     "metadata": {},
     "output_type": "execute_result"
    }
   ],
   "source": [
    "sol[-1,0]"
   ]
  },
  {
   "cell_type": "markdown",
   "metadata": {},
   "source": [
    "-   Remember what the units are?\n",
    "\n"
   ]
  },
  {
   "cell_type": "markdown",
   "metadata": {},
   "source": [
    "\n",
    "## Plotting $C_A$ vs. time in a batch reactor\n",
    "\n"
   ]
  },
  {
   "cell_type": "markdown",
   "metadata": {},
   "source": [
    "-   Now let us solve the ODE and plot the solution.\n",
    "\n"
   ]
  },
  {
   "cell_type": "code",
   "execution_count": 16,
   "metadata": {},
   "outputs": [
    {
     "name": "stdout",
     "output_type": "stream",
     "text": [
      "shapes:  (3,) (3, 1)\n"
     ]
    },
    {
     "data": {
      "image/png": "[encoded data removed]",
      "text/plain": [
       "<Figure size 432x288 with 1 Axes>"
      ]
     },
     "metadata": {},
     "output_type": "display_data"
    }
   ],
   "source": [
    "import numpy as np\n",
    "from scipy.integrate import odeint\n",
    "import matplotlib.pyplot as plt\n",
    "\n",
    "k = 0.23   # 1 / hr\n",
    "Ca0 = 4.0  # mol / L\n",
    "\n",
    "def ode(Ca, t):\n",
    "    dCadt = -k * Ca\n",
    "    return dCadt\n",
    "\n",
    "tspan = np.linspace(0, 4,3)\n",
    "sol = odeint(ode, Ca0,  tspan)\n",
    "\n",
    "# Note: tspan is a 1d array, and sol is a 2d array. numpy understands these\n",
    "# arrays are compatible based on their sizes and shapes.\n",
    "print('shapes: ',tspan.shape, sol.shape)\n",
    "\n",
    "plt.plot(tspan, sol, '-o')\n",
    "plt.xlabel('Time (hours)')\n",
    "plt.ylabel('$C_A$ (mol / L)')\n",
    "plt.show()"
   ]
  },
  {
   "cell_type": "markdown",
   "metadata": {},
   "source": [
    "-   $C_A$ decreases with time (it is consumed)\n",
    "-   It is not apparent from this graph because of the short time, but the concentration decreases exponentially with time (plot for longer time to see it).\n",
    "\n"
   ]
  },
  {
   "cell_type": "code",
   "execution_count": 11,
   "metadata": {},
   "outputs": [
    {
     "data": {
      "text/plain": [
       "array([0.63327356])"
      ]
     },
     "execution_count": 11,
     "metadata": {},
     "output_type": "execute_result"
    }
   ],
   "source": [
    "sol[-1]"
   ]
  },
  {
   "cell_type": "markdown",
   "metadata": {},
   "source": [
    "\n",
    "# Mole balance in a plug flow reactor\n",
    "\n"
   ]
  },
  {
   "cell_type": "markdown",
   "metadata": {},
   "source": [
    "-   In the plug flow reactor, reactants enter the front of the reactor and disappear as they flow through the reactor\n",
    "\n",
    "![img](./images/pfr-schematic.png)\n",
    "\n",
    "-   We assume our differential element is well-mixed\n",
    "-   The mole balance on the differential element leads to\n",
    "\n",
    "$ \\frac{dN_A}{dt} = F_A |_V - F_A |_{V + \\Delta V} + \\Delta V r_A $\n",
    "\n",
    "-   At steady state, in the limit of $\\Delta V \\rightarrow 0$ we get:\n",
    "\n",
    "$ \\frac{dF_A}{dV} = r_A $\n",
    "\n",
    "-   This is an ordinary differential equation (but it varies in space, not time), and to solve it we need an initial condition on the molar flow at $V=0$.\n",
    "\n"
   ]
  },
  {
   "cell_type": "markdown",
   "metadata": {},
   "source": [
    "\n",
    "## A worked PFR example\n",
    "\n"
   ]
  },
  {
   "cell_type": "markdown",
   "metadata": {},
   "source": [
    "-   Given a 100 L reactor with $A$ flowing in at a concentration of 3 mol/L and a rate of 10 L/min\n",
    "-   The reaction $A \\rightarrow B$ occurs at a rate law of $r = k C_A$ with $k = 0.23$ 1/min\n",
    "-   What is the exit concentration of $A$?\n",
    "\n",
    "-   We have $\\frac{dF_A}{dV} = r_A $\n",
    "-   We have $r_A = -r$ (stoichiometry)\n",
    "-   $F_A(V=0) = C_{A0} v_0$\n",
    "\n"
   ]
  },
  {
   "cell_type": "code",
   "execution_count": 38,
   "metadata": {},
   "outputs": [
    {
     "name": "stdout",
     "output_type": "stream",
     "text": [
      "Exit concentration = 0.3008 mol/L\n"
     ]
    }
   ],
   "source": [
    "from scipy.integrate import odeint\n",
    "\n",
    "Ca0 = 3.0  # mol / L\n",
    "v0 = 10.0  # volumetric flowrate L/min\n",
    "k = 0.23   # rate constant 1/min\n",
    "\n",
    "def ode(Fa, V):\n",
    "    Ca = Fa / v0\n",
    "    return -k * Ca\n",
    "\n",
    "Vspan = [0, 100] # reactor volume\n",
    "\n",
    "sol = odeint(ode, Ca0 * v0, Vspan)\n",
    "Fa_exit = sol[-1, 0] # last row, column 0\n",
    "\n",
    "print('Exit concentration = {0:1.4f} mol/L'.format(Fa_exit / v0))"
   ]
  },
  {
   "cell_type": "code",
   "execution_count": 39,
   "metadata": {},
   "outputs": [
    {
     "data": {
      "text/plain": [
       "array([[ 30.       ],\n",
       "       [  3.0077653]])"
      ]
     },
     "execution_count": 39,
     "metadata": {},
     "output_type": "execute_result"
    }
   ],
   "source": [
    "sol"
   ]
  },
  {
   "cell_type": "markdown",
   "metadata": {},
   "source": [
    "-   Our solution only has two points in it: 0 and 100L\n",
    "    -   We cannot visualize the concentration profile\n",
    "\n"
   ]
  },
  {
   "cell_type": "markdown",
   "metadata": {},
   "source": [
    "\n",
    "## A harder PFR example\n",
    "\n"
   ]
  },
  {
   "cell_type": "markdown",
   "metadata": {},
   "source": [
    "-   The reaction $A \\rightarrow B$ occurs at a rate law of $r = k C_A$ with $k = 0.23$ 1/min\n",
    "-   If  $A$ is flowing in at a concentration of 3 mol/L and a rate of 10 L/min\n",
    "-   How large should the reactor be to reduce the concentration of $A$ to 0.3 mol/L?\n",
    "\n",
    "There are many ways to approach this.\n",
    "\n",
    "-   You could integrate $\\frac{dF_A}{dV} = r_A$ and graphically determine where the solution is.\n",
    "-   You could setup a numerical approach to solving the equation\n",
    "\n",
    "-   First we graph the solution. the code is almost the same as before, but we integrate over more points and a larger range to get a smooth curve.\n",
    "\n"
   ]
  },
  {
   "cell_type": "code",
   "execution_count": 44,
   "metadata": {},
   "outputs": [
    {
     "name": "stdout",
     "output_type": "stream",
     "text": [
      "[[file:pyshow/4647e6ef89989289dd86a0306fbfc372975d3485.png]]\n"
     ]
    },
    {
     "data": {
      "image/png": "[encoded data removed]",
      "text/plain": [
       "<matplotlib.figure.Figure at 0x7ff612403b38>"
      ]
     },
     "metadata": {},
     "output_type": "display_data"
    }
   ],
   "source": [
    "import numpy as np\n",
    "from scipy.integrate import odeint\n",
    "import matplotlib.pyplot as plt\n",
    "\n",
    "Ca0 = 3.0 # mol / L\n",
    "v0 = 10.0 # L / min\n",
    "k = 0.23  # 1/min\n",
    "\n",
    "def ode(Fa, V):\n",
    "    Ca = Fa / v0\n",
    "    return -k * Ca\n",
    "\n",
    "Vspan = np.linspace(0, 200) # volumes to integrate over\n",
    "\n",
    "sol = odeint(ode, Ca0 * v0, Vspan)\n",
    "\n",
    "plt.plot(Vspan, sol)\n",
    "plt.xlabel('Volume (L)')\n",
    "plt.ylabel('$F_A$ (mol/min)')\n",
    "plt.show()"
   ]
  },
  {
   "cell_type": "markdown",
   "metadata": {},
   "source": [
    "-   at $C_A = 0.3$ mol/L, $F_A = 3$ mol/min.\n",
    "-   We know the answer from before: It is about 100 L.\n",
    "-   It is hard to be very accurate this way, although interactive graphics help\n"
   ]
  },
  {
   "cell_type": "markdown",
   "metadata": {},
   "source": [
    "\n",
    "## Numerical solution\n",
    "\n"
   ]
  },
  {
   "cell_type": "markdown",
   "metadata": {},
   "source": [
    "-   To numerically solve this we must solve a function $f(V) = 0$.\n",
    "-   Here is one approach\n",
    "-   Starting from $\\frac{dF_A}{dV} = -k F_A/\\nu$ we derive:\n",
    "\n",
    "\\begin{align}\n",
    "f(V) = \\int_{F_{A0}}^{F_A} \\frac{dF_A}{F_A} - \\int_{V=0}^{V} \\frac{-k}{\\nu}dV\n",
    "\\end{align}\n",
    "\n",
    "where everything is known but $V$. We use numerical quadrature to evaluate the integrals.\n",
    "\n",
    "[scipy.integrate.quad](https://docs.scipy.org/doc/scipy/reference/generated/scipy.integrate.quad.html)\n",
    "\n"
   ]
  },
  {
   "cell_type": "code",
   "execution_count": 43,
   "metadata": {},
   "outputs": [
    {
     "name": "stdout",
     "output_type": "stream",
     "text": [
      "Volume = 100.11\n"
     ]
    }
   ],
   "source": [
    "from scipy.integrate import quad\n",
    "from scipy.optimize import fsolve\n",
    "\n",
    "k = 0.23        # 1/min\n",
    "nu = 10         # L/min\n",
    "Ca0 = 3.0       # mol / L\n",
    "Fa0 = Ca0 * nu\n",
    "Fa = 0.30 * nu\n",
    "\n",
    "def integrand1(Fa):\n",
    "    return 1.0 / Fa\n",
    "\n",
    "def integrand2(V):\n",
    "    return -k / nu\n",
    "\n",
    "def func(V):\n",
    "    I1, e1 = quad(integrand1, Fa0, Fa)\n",
    "    I2, e2 = quad(integrand2, 0, V)\n",
    "    return I1 - I2\n",
    "\n",
    "guess = 120 # Liters\n",
    "sol = fsolve(func, guess)\n",
    "print('Volume = {0:1.2f}'.format(float(sol)))"
   ]
  },
  {
   "cell_type": "markdown",
   "metadata": {},
   "source": [
    "-   This also leaves something to be desired in complexity\n",
    "-   Many opportunities for mistakes in the derivation\n",
    "-   Requires sophisticated thinking about the problem\n",
    "-   Other approaches require similar or more sophistication!\n",
    "\n"
   ]
  },
  {
   "cell_type": "markdown",
   "metadata": {},
   "source": [
    "\n",
    "## Using events to stop integration\n",
    "\n"
   ]
  },
  {
   "cell_type": "markdown",
   "metadata": {},
   "source": [
    "-   An alternative to the methods above is to use an ODE solver that is aware of events to stop the integration where you want it.\n",
    "\n",
    "-   `pycse` provides a function like this called `odelay`. [pycse.odelay](https://www.google.com/#safe=off&q=pycse.odelay)\n",
    "\n",
    "-   You define an event function that equals zero at the event. You specify if the event is terminal, and whether to the zero must be approached from above or below, or if all zeros count.\n",
    "\n",
    "-   Here is an example.\n",
    "\n"
   ]
  },
  {
   "cell_type": "code",
   "execution_count": 49,
   "metadata": {},
   "outputs": [
    {
     "name": "stdout",
     "output_type": "stream",
     "text": [
      "Solution is at 100.11242229762259 L\n",
      "[[file:pyshow/ff9e13141cf4e47830a702f56c85170be6fb90d0.png]]\n"
     ]
    },
    {
     "data": {
      "image/png": "[encoded data removed]",
      "text/plain": [
       "<matplotlib.figure.Figure at 0x7ff612241f28>"
      ]
     },
     "metadata": {},
     "output_type": "display_data"
    }
   ],
   "source": [
    "import numpy as np\n",
    "from pycse import odelay\n",
    "\n",
    "Ca0 = 3.0  # mol / L\n",
    "v0 = 10.0  # L / min\n",
    "k = 0.23   # 1 / min\n",
    "\n",
    "Fa_Exit = 0.3 * v0\n",
    "\n",
    "def ode(Fa, V):\n",
    "    Ca = Fa / v0\n",
    "    return -k * Ca\n",
    "\n",
    "def event1(Fa, V):\n",
    "    isterminal = True\n",
    "    direction = 0\n",
    "    value = Fa - Fa_Exit\n",
    "    return value, isterminal, direction\n",
    "\n",
    "Vspan = np.linspace(0, 200) # L\n",
    "\n",
    "V, F, TE, YE, IE = odelay(ode, Ca0 * v0, Vspan, events=[event1])\n",
    "\n",
    "print('Solution is at {0} L'.format(V[-1]))\n",
    "import matplotlib.pyplot as plt\n",
    "\n",
    "plt.plot(V, F)\n",
    "\n",
    "plt.show()"
   ]
  },
  {
   "cell_type": "markdown",
   "metadata": {},
   "source": [
    "-   As you can see, there are many ways to solve this problem\n",
    "-   It is *not* necessary to know every single way to do it, but knowing multiple ways increases your ability to solve other problems in the future\n",
    "-   And provides ways to check your solution by other methods.\n",
    "\n"
   ]
  },
  {
   "cell_type": "markdown",
   "metadata": {},
   "source": [
    "\n",
    "## Solution by interpolation\n",
    "\n"
   ]
  },
  {
   "cell_type": "markdown",
   "metadata": {},
   "source": [
    "-   Solve the problem on a grid\n",
    "-   Create interpolation function for the solution to approximate solutions between grid points.  [scipy.interpolate.interp1d](https://docs.scipy.org/doc/scipy/reference/generated/scipy.interpolate.interp1d.html)\n",
    "-   Use fsolve to find the solution\n",
    "\n"
   ]
  },
  {
   "cell_type": "code",
   "execution_count": 50,
   "metadata": {},
   "outputs": [
    {
     "name": "stdout",
     "output_type": "stream",
     "text": [
      "Solution is at 100.12059485096383 L\n"
     ]
    }
   ],
   "source": [
    "import numpy as np\n",
    "from scipy.integrate import odeint\n",
    "from scipy.interpolate import interp1d\n",
    "\n",
    "Ca0 = 3.0  # mol / L\n",
    "v0 = 10.0  # L / min\n",
    "k = 0.23   # 1 / min\n",
    "\n",
    "def ode(Fa, V):\n",
    "    'dFa/dV = ra'\n",
    "    Ca = Fa / v0\n",
    "    r = k * Ca\n",
    "    ra = -r\n",
    "    return ra\n",
    "\n",
    "Vspan = np.linspace(0, 200,5) # L\n",
    "\n",
    "sol = odeint(ode, Ca0 * v0, Vspan)\n",
    "\n",
    "Ca_exit = 0.3 # mol / L\n",
    "Fa_exit = Ca_exit * v0\n",
    "\n",
    "# Note that here we cannot mix 1d and 2d arrays. We must extract a 1d\n",
    "# array from the solution. We do that with sol[:, 0] which means take\n",
    "# all rows in column 0.\n",
    "interp_func = interp1d(Vspan, sol[:, 0], 'cubic')\n",
    "\n",
    "def objective(V):\n",
    "    'equal to zero when F(V) = Fa_exit'\n",
    "    return interp_func(V) - Fa_exit\n",
    "\n",
    "from scipy.optimize import fsolve\n",
    "V_sol = fsolve(objective, 100)\n",
    "print('Solution is at {0} L'.format(float(V_sol)))"
   ]
  },
  {
   "cell_type": "markdown",
   "metadata": {},
   "source": [
    "-   Note that you may be limited by the accuracy of your interpolation here. Solving the ODE with a fine mesh of points will increase the accuracy of the solution. Or using more accurate interpolations, e.g. splines, can also increase the accuracy.\n",
    "\n"
   ]
  },
  {
   "cell_type": "code",
   "execution_count": 52,
   "metadata": {},
   "outputs": [
    {
     "name": "stdout",
     "output_type": "stream",
     "text": [
      "<scipy.interpolate.interpolate.interp1d object at 0x7ff612264818>\n"
     ]
    }
   ],
   "source": [
    "print(interp_func)"
   ]
  },
  {
   "cell_type": "code",
   "execution_count": null,
   "metadata": {},
   "outputs": [],
   "source": []
  }
 ],
 "metadata": {
  "kernelspec": {
   "display_name": "Python 3",
   "language": "python",
   "name": "python3"
  },
  "language_info": {
   "codemirror_mode": {
    "name": "ipython",
    "version": 3
   },
   "file_extension": ".py",
   "mimetype": "text/x-python",
   "name": "python",
   "nbconvert_exporter": "python",
   "pygments_lexer": "ipython3",
   "version": "3.6.3"
  },
  "toc": {
   "base_numbering": 1,
   "nav_menu": {
    "height": "352px",
    "width": "252px"
   },
   "number_sections": true,
   "sideBar": true,
   "skip_h1_title": false,
   "title_cell": "Table of Contents",
   "title_sidebar": "Contents",
   "toc_cell": false,
   "toc_position": {},
   "toc_section_display": "block",
   "toc_window_display": false
  }
 },
 "nbformat": 4,
 "nbformat_minor": 1
}
