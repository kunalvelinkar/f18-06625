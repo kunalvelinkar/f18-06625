{
 "cells": [
  {
   "cell_type": "markdown",
   "metadata": {},
   "source": [
    "$$\\require{mhchem}$$"
   ]
  },
  {
   "cell_type": "markdown",
   "metadata": {},
   "source": [
    "# Python/latex practice (2 pts)\n"
   ]
  },
  {
   "cell_type": "markdown",
   "metadata": {},
   "source": [
    "## Review the materials we discussed in class on [Wednesday](https://nbviewer.jupyter.org/github/zulissi/f18-06625/blob/master/rxns-book/introduction.ipynb?flush_cache=True).  Look over  scipy.optimize,  scipy.minimize, and np.array modules.  Post at least one question on piazza about the concepts/examples/tutorials that you find confusing."
   ]
  },
  {
   "cell_type": "markdown",
   "metadata": {},
   "source": [
    "## The Fibonacci sequence is defined such that each number is the sum of the two previous numbers in the sequence, starting with [1, 1, 2, 3, 5...]. Generate the first 15 elements in the sequence in Python, with the final result as a [list](https://www.tutorialspoint.com/python/python_lists.htm)."
   ]
  },
  {
   "cell_type": "code",
   "execution_count": 1,
   "metadata": {},
   "outputs": [
    {
     "name": "stdout",
     "output_type": "stream",
     "text": [
      "[1, 1, 2, 3, 5, 8, 13, 21, 34, 55, 89, 144, 233, 377, 610]\n"
     ]
    }
   ],
   "source": [
    "sum = 0\n",
    "y = 1                      # This is the first number of the list  \n",
    "lst = [y,]                 # defining a list to contain all the numbers \n",
    "def fibonacci(n):          # function definition \n",
    "    x = 0    \n",
    "    y = 1\n",
    "    for i in range(0,n-1):  \n",
    "        sum = x + y\n",
    "        data = sum          \n",
    "        x = y\n",
    "        y = sum\n",
    "        lst.append(data)   #listing all the numbers \n",
    "fibonacci(15)\n",
    "print(lst)"
   ]
  },
  {
   "cell_type": "markdown",
   "metadata": {},
   "source": [
    "### Bonus (1pt) write a fibonacci generator as a recursive function"
   ]
  },
  {
   "cell_type": "code",
   "execution_count": 2,
   "metadata": {},
   "outputs": [
    {
     "name": "stdout",
     "output_type": "stream",
     "text": [
      "Enter the lenght of the series 5\n",
      "Fibonacci sequence:\n",
      "1\n",
      "1\n",
      "2\n",
      "3\n",
      "5\n"
     ]
    }
   ],
   "source": [
    "n = int(input(\"Enter the lenght of the series \"))  #user input\n",
    "def rb(n):                                #Function definition\n",
    "    if n <= 1: \n",
    "        return n\n",
    "    else:\n",
    "        return(rb(n-1) + rb(n-2))\n",
    "\n",
    "print(\"Fibonacci sequence:\")\n",
    "for i in range(1,n+1):\n",
    "    print(rb(i)) "
   ]
  },
  {
   "cell_type": "markdown",
   "metadata": {},
   "source": [
    "## Type-set 5 latex equations.  Choose the 5 most complicated equations you have seen so far in your other classes (or from your undergrad courses) and typeset them here."
   ]
  },
  {
   "cell_type": "markdown",
   "metadata": {},
   "source": [
    "### 1. Bernoulli's Equation\n",
    "\\begin{equation} p + 0.5*\\rho*V^2 + \\rho*g*h = cosntant \\end{equation}\n",
    "\n",
    "### 2. Navier Stokes Equation\n",
    "\\begin{equation} \\rho*(\\frac{\\partial u}{\\partial x} + u.\\triangledown u) =\n",
    "-\\triangledown\\bar{p} + \\mu \\triangledown ^{2}u + 1/3 \\mu \\triangledown \n",
    "(\\triangledown .u) + \\rho g \\end{equation}\n",
    "\n",
    "### 3. Knudsen Equation\n",
    "\\begin{equation} q = 1/6 \\sqrt{2\\Pi }\\bigtriangleup P\n",
    "\\frac{d^{3}}{l\\sqrt{\\rho _{1}}} \\end{equation}\n",
    "\n",
    "### 4. Newtons method\n",
    "\\begin{equation} x_{n+1} = x_{n} - \\frac{f(x_{n})}{{f}'(x_{n})} \n",
    "                                                   \\end{equation}\n",
    "\n",
    "### 5. Eulers method\n",
    "\\begin{equation} \\frac{\\partial p}{\\partial t} + \\triangledown .(\\rho u) \n",
    "                                                   = 0 \\end{equation}"
   ]
  },
  {
   "cell_type": "markdown",
   "metadata": {},
   "source": [
    "# Problem 1:  Reaction extent (5 pt)"
   ]
  },
  {
   "cell_type": "markdown",
   "metadata": {},
   "source": [
    "## Problem 1A\n",
    "Ammonia has been proposed as a chemical to store hydrogen for a hydrogen fuel cell due its favorable volumetric hydrogen density. Write down the stoichiometric vector for the thermal decomposition of ammonia to nitrogen and hydrogen."
   ]
  },
  {
   "cell_type": "markdown",
   "metadata": {},
   "source": [
    "$\\ce{2NH3 -> N2 + 3H2}$"
   ]
  },
  {
   "cell_type": "code",
   "execution_count": 7,
   "metadata": {},
   "outputs": [
    {
     "name": "stdout",
     "output_type": "stream",
     "text": [
      "[-2  1  3]\n"
     ]
    }
   ],
   "source": [
    "import numpy as np\n",
    "a = np.array([-2,1,3])          #The reaction is 2NH3 -> N2 + 3H2 \n",
    "print(a)          #Displays the stoichiometric vector for the above equation"
   ]
  },
  {
   "cell_type": "markdown",
   "metadata": {},
   "source": [
    "## Problem 1B\n",
    "Suppose that we know the initial gas concentration of ammonia in a tank is 100 mol/L, and the fractional reaction extent proceeds as $\\Xi=(1-e^{-3t^2})$ where $t$ is the time in seconds.  Plot the concentration of ammonia, nitrogen, and hydrogen as a function of time over the first 2 seconds.  Label the plot with a legend to indicate the species.  "
   ]
  },
  {
   "cell_type": "code",
   "execution_count": 16,
   "metadata": {
    "ExecuteTime": {
     "end_time": "2017-09-11T21:13:52.453159Z",
     "start_time": "2017-09-11T21:13:51.621996Z"
    },
    "scrolled": true
   },
   "outputs": [
    {
     "data": {
      "image/png": "[encoded data removed]",
      "text/plain": [
       "<Figure size 432x288 with 1 Axes>"
      ]
     },
     "metadata": {},
     "output_type": "display_data"
    }
   ],
   "source": [
    "import numpy as np\n",
    "import matplotlib.pyplot as plt\n",
    "def CaAmmonia(t):                      #concentration of ammonia w.r.t time\n",
    "    return 100 * np.exp(-3 * t**2)\n",
    "def CaNitrogen(t):                     #concentration of nitrogen w.r.t time\n",
    "    return 50 * (1 - np.exp(-3 * t**2))\n",
    "def CaHydrogen(t):                      #concentration of hydrogen w.r.t time\n",
    "    return 150 * (1 - np.exp(-3 * t**2))\n",
    "t = np.linspace(0,2,50)\n",
    "plt.plot(t,CaAmmonia(t))\n",
    "plt.plot(t,CaNitrogen(t))\n",
    "plt.plot(t,CaHydrogen(t))\n",
    "plt.xlabel('Time t [s]')\n",
    "plt.ylabel('CA [M]') \n",
    "plt.title(\"Concentration curves\")\n",
    "plt.legend(['Ammonia','Nitrogen','Hydrogen'])\n",
    "plt.show()"
   ]
  },
  {
   "cell_type": "markdown",
   "metadata": {},
   "source": [
    "## Problem 1C\n",
    "The operator is worried that if the reaction continues to full extent the increase in the number of moles will drive the pressure too high.  Calculate the time it will take to achieve a 50% higher pressure in the reactor (assuming ideal gas) due to the increase in the number of moles, using fsolve."
   ]
  },
  {
   "cell_type": "code",
   "execution_count": 10,
   "metadata": {
    "ExecuteTime": {
     "end_time": "2017-09-11T17:58:03.688011Z",
     "start_time": "2017-09-11T17:58:03.356264Z"
    }
   },
   "outputs": [
    {
     "name": "stdout",
     "output_type": "stream",
     "text": [
      "The value of time at which the pressure rises by 50% is [0.48067563]s\n"
     ]
    }
   ],
   "source": [
    "import numpy as np\n",
    "from scipy.optimize import fsolve\n",
    "C0 = 100\n",
    "def c(t):                               #concentration of ammonia w.r.t time\n",
    "    return C0 * (1 + np.exp(-3 * t**2))\n",
    "def f(t):\n",
    "    return 150 - c(t)\n",
    "ans = fsolve(f,0.5,full_output=0)\n",
    "print(f'The value of time at which the pressure rises by 50% is {ans}s')"
   ]
  },
  {
   "cell_type": "markdown",
   "metadata": {},
   "source": [
    "# Problem 2:  Stoichiometry of reaction systems (3 pt)\n",
    "\n",
    "Consider the following set of chemical reactions:\n",
    "\n",
    "\\begin{equation*}\n",
    "\\ce{H2 + Br2 <=> 2HBr}\\\\\n",
    "\\ce{Br2 <=> 2Br}\\\\\n",
    "\\ce{Br+H2 <=> HBr+H}\\\\\n",
    "\\ce{H+Br2 <=> HBr+Br}\\\\\n",
    "\\ce{H+HBr <=> H2+Br}\\\\\n",
    "\\ce{2Br <=> Br2}\n",
    "\\end{equation*}\n",
    "\n"
   ]
  },
  {
   "cell_type": "markdown",
   "metadata": {},
   "source": [
    "## Determine the stoichiometric matrix $\\nu$, the species list $A$ for this reaction system (in text)"
   ]
  },
  {
   "cell_type": "markdown",
   "metadata": {},
   "source": [
    "Write A here:"
   ]
  },
  {
   "cell_type": "code",
   "execution_count": 11,
   "metadata": {},
   "outputs": [
    {
     "data": {
      "text/plain": [
       "[[-1, -1, 2, 0, 0],\n",
       " [0, -1, 0, 2, 0],\n",
       " [-1, 0, 1, -1, 1],\n",
       " [0, -1, 1, 1, -1],\n",
       " [1, 0, -1, 1, -1],\n",
       " [0, 1, 0, -2, 0]]"
      ]
     },
     "execution_count": 11,
     "metadata": {},
     "output_type": "execute_result"
    }
   ],
   "source": [
    "\n",
    "A = [[-1,-1,2,0,0], [0,-1,0,2,0], [-1,0,1,-1,1], [0,-1,1,1,-1], [1,0,-1,1,-1],\n",
    "     [0,1,0,-2,0]]\n",
    "\n",
    "A"
   ]
  },
  {
   "cell_type": "markdown",
   "metadata": {},
   "source": [
    "## Determine the vector of molecular weights $MW$ and verify that all of the equations you have written obey mass balance"
   ]
  },
  {
   "cell_type": "code",
   "execution_count": 12,
   "metadata": {},
   "outputs": [
    {
     "name": "stdout",
     "output_type": "stream",
     "text": [
      "All the equations obey mass balance\n"
     ]
    }
   ],
   "source": [
    "import numpy as np\n",
    "A = [[-1,-1,2,0,0], [0,-1,0,2,0], [-1,0,1,-1,1], [0,-1,1,1,-1], [1,0,-1,1,-1],\n",
    "     [0,1,0,-2,0]]\n",
    "MA = [[2],[160],[81],[80],[1]]\n",
    "b = np.dot(A,MA)\n",
    "if np.any(b)==0:\n",
    "    print(\"All the equations obey mass balance\")\n",
    "else:\n",
    "    print(\"All equations do not obey mass balance\")"
   ]
  },
  {
   "cell_type": "markdown",
   "metadata": {},
   "source": [
    "## Determine the rank of the matrix using numpy or scipy. How many reactions are linearly independent?"
   ]
  },
  {
   "cell_type": "code",
   "execution_count": 13,
   "metadata": {},
   "outputs": [
    {
     "data": {
      "text/plain": [
       "3"
      ]
     },
     "execution_count": 13,
     "metadata": {},
     "output_type": "execute_result"
    }
   ],
   "source": [
    "A = [[-1,-1,2,0,0], [0,-1,0,2,0], [-1,0,1,-1,1], [0,-1,1,1,-1], [1,0,-1,1,-1],\n",
    "     [0,1,0,-2,0]]\n",
    "import numpy as np\n",
    "np.linalg.matrix_rank(A)  #Tells the number of linearly independent eqns"
   ]
  },
  {
   "cell_type": "markdown",
   "metadata": {},
   "source": [
    "## Now that you have found the number of independent reactions $n_i$, which $n_i$ of the original set of six reactions can be chosen as an independent set? Try guessing some set of $n_i$ reactions and determine the rank of the new stoichiometric matrix. Stop when you have determined successfully one or more sets of $n_i$ independent reactions."
   ]
  },
  {
   "cell_type": "code",
   "execution_count": 14,
   "metadata": {},
   "outputs": [
    {
     "data": {
      "text/plain": [
       "3"
      ]
     },
     "execution_count": 14,
     "metadata": {},
     "output_type": "execute_result"
    }
   ],
   "source": [
    "import numpy as np\n",
    "A = [[-1,-1,2,0,0], [0,-1,0,2,0], [-1,0,1,-1,1], [0,-1,1,1,-1], [1,0,-1,1,-1],\n",
    "     [0,1,0,-2,0]]\n",
    "#The rank of above matrix is 3. \n",
    "#This implies that there are 3 linearly independent equations\n",
    "#By assuming any 3 eqns and checking the rank of the matrix we can obtain \n",
    "#the independent equations\n",
    "B = [[-1,-1,2,0,0], [0,-1,0,2,0], [-1,0,1,-1,1]]\n",
    "np.linalg.matrix_rank(B)     #The rank is 3\n",
    "#Hence the first three equations are linearly independent"
   ]
  },
  {
   "cell_type": "markdown",
   "metadata": {},
   "source": [
    "# How long did it take you to complete this assignment?"
   ]
  },
  {
   "cell_type": "markdown",
   "metadata": {},
   "source": [
    "8 hours"
   ]
  }
 ],
 "metadata": {
  "kernelspec": {
   "display_name": "Python 3",
   "language": "python",
   "name": "python3"
  },
  "language_info": {
   "codemirror_mode": {
    "name": "ipython",
    "version": 3
   },
   "file_extension": ".py",
   "mimetype": "text/x-python",
   "name": "python",
   "nbconvert_exporter": "python",
   "pygments_lexer": "ipython3",
   "version": "3.6.3"
  },
  "toc": {
   "base_numbering": 1,
   "nav_menu": {
    "height": "173px",
    "width": "252px"
   },
   "number_sections": true,
   "sideBar": true,
   "skip_h1_title": false,
   "title_cell": "Table of Contents",
   "title_sidebar": "Contents",
   "toc_cell": false,
   "toc_position": {},
   "toc_section_display": "block",
   "toc_window_display": false
  }
 },
 "nbformat": 4,
 "nbformat_minor": 2
}
